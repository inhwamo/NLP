{
 "cells": [
  {
   "cell_type": "code",
   "execution_count": 10,
   "metadata": {},
   "outputs": [],
   "source": [
    "import numpy as np\n",
    "import re  # regular expressions\n",
    "# Count vectorization without any libraries\n",
    "quote = \"Life can be much broader once you discover one simple fact. And that is everything around you that you call life was made up by people that were no smarter than you. And you can change it-you can influence it, you can build your own things that other people can use.\""
   ]
  },
  {
   "cell_type": "code",
   "execution_count": 3,
   "metadata": {},
   "outputs": [],
   "source": [
    "\n",
    "tokens = re.findall(r'\\b\\w+\\b', quote.lower())\n",
    "words = {}\n",
    "for word in tokens:\n",
    "    if word in words:\n",
    "        words[word] += 1\n",
    "    else:\n",
    "        words[word] = 1\n",
    "\n",
    "vocab = words.keys()\n",
    "counts = np.array([words[word] for word in vocab])\n",
    "# Sort the counts in descending order\n",
    "# 'Count dictionary'\n",
    "sorted_words = {k: v for k, v in sorted(words.items(), key=lambda item: item[1], reverse=True)}\n"
   ]
  },
  {
   "cell_type": "code",
   "execution_count": 4,
   "metadata": {},
   "outputs": [
    {
     "data": {
      "text/plain": [
       "{'you': 7,\n",
       " 'can': 5,\n",
       " 'that': 4,\n",
       " 'life': 2,\n",
       " 'and': 2,\n",
       " 'people': 2,\n",
       " 'it': 2,\n",
       " 'be': 1,\n",
       " 'much': 1,\n",
       " 'broader': 1,\n",
       " 'once': 1,\n",
       " 'discover': 1,\n",
       " 'one': 1,\n",
       " 'simple': 1,\n",
       " 'fact': 1,\n",
       " 'is': 1,\n",
       " 'everything': 1,\n",
       " 'around': 1,\n",
       " 'call': 1,\n",
       " 'was': 1,\n",
       " 'made': 1,\n",
       " 'up': 1,\n",
       " 'by': 1,\n",
       " 'were': 1,\n",
       " 'no': 1,\n",
       " 'smarter': 1,\n",
       " 'than': 1,\n",
       " 'change': 1,\n",
       " 'influence': 1,\n",
       " 'build': 1,\n",
       " 'your': 1,\n",
       " 'own': 1,\n",
       " 'things': 1,\n",
       " 'other': 1,\n",
       " 'use': 1}"
      ]
     },
     "execution_count": 4,
     "metadata": {},
     "output_type": "execute_result"
    }
   ],
   "source": [
    "sorted_words"
   ]
  },
  {
   "cell_type": "code",
   "execution_count": 5,
   "metadata": {},
   "outputs": [
    {
     "data": {
      "text/plain": [
       "array([2, 5, 1, 1, 1, 1, 7, 1, 1, 1, 1, 2, 4, 1, 1, 1, 1, 1, 1, 1, 1, 2,\n",
       "       1, 1, 1, 1, 1, 2, 1, 1, 1, 1, 1, 1, 1])"
      ]
     },
     "execution_count": 5,
     "metadata": {},
     "output_type": "execute_result"
    }
   ],
   "source": [
    "counts"
   ]
  },
  {
   "cell_type": "code",
   "execution_count": 6,
   "metadata": {},
   "outputs": [
    {
     "data": {
      "text/plain": [
       "{'life': 2,\n",
       " 'can': 5,\n",
       " 'be': 1,\n",
       " 'much': 1,\n",
       " 'broader': 1,\n",
       " 'once': 1,\n",
       " 'you': 7,\n",
       " 'discover': 1,\n",
       " 'one': 1,\n",
       " 'simple': 1,\n",
       " 'fact': 1,\n",
       " 'and': 2,\n",
       " 'that': 4,\n",
       " 'is': 1,\n",
       " 'everything': 1,\n",
       " 'around': 1,\n",
       " 'call': 1,\n",
       " 'was': 1,\n",
       " 'made': 1,\n",
       " 'up': 1,\n",
       " 'by': 1,\n",
       " 'people': 2,\n",
       " 'were': 1,\n",
       " 'no': 1,\n",
       " 'smarter': 1,\n",
       " 'than': 1,\n",
       " 'change': 1,\n",
       " 'it': 2,\n",
       " 'influence': 1,\n",
       " 'build': 1,\n",
       " 'your': 1,\n",
       " 'own': 1,\n",
       " 'things': 1,\n",
       " 'other': 1,\n",
       " 'use': 1}"
      ]
     },
     "execution_count": 6,
     "metadata": {},
     "output_type": "execute_result"
    }
   ],
   "source": [
    "words"
   ]
  },
  {
   "cell_type": "code",
   "execution_count": 8,
   "metadata": {},
   "outputs": [
    {
     "data": {
      "text/plain": [
       "array([7, 5, 4, 2, 2, 2, 2, 1, 1, 1, 1, 1, 1, 1, 1, 1, 1, 1, 1, 1, 1, 1,\n",
       "       1, 1, 1, 1, 1, 1, 1, 1, 1, 1, 1, 1, 1])"
      ]
     },
     "execution_count": 8,
     "metadata": {},
     "output_type": "execute_result"
    }
   ],
   "source": [
    "sorted_counts = np.array(sorted(counts, reverse=True))\n",
    "sorted_counts\n",
    "# Finally have the count vector\n",
    "# only includes the frequencies in descending order"
   ]
  },
  {
   "cell_type": "code",
   "execution_count": 9,
   "metadata": {},
   "outputs": [
    {
     "data": {
      "text/plain": [
       "array(['you', 'can', 'that', 'life', 'and', 'people', 'it', 'be', 'much',\n",
       "       'broader', 'once', 'discover', 'one', 'simple', 'fact', 'is',\n",
       "       'everything', 'around', 'call', 'was', 'made', 'up', 'by', 'were',\n",
       "       'no', 'smarter', 'than', 'change', 'influence', 'build', 'your',\n",
       "       'own', 'things', 'other', 'use'], dtype='<U10')"
      ]
     },
     "execution_count": 9,
     "metadata": {},
     "output_type": "execute_result"
    }
   ],
   "source": [
    "sorted_wordsarray = np.array(list(sorted_words.keys()))\n",
    "sorted_wordsarray"
   ]
  }
 ],
 "metadata": {
  "kernelspec": {
   "display_name": "base",
   "language": "python",
   "name": "python3"
  },
  "language_info": {
   "codemirror_mode": {
    "name": "ipython",
    "version": 3
   },
   "file_extension": ".py",
   "mimetype": "text/x-python",
   "name": "python",
   "nbconvert_exporter": "python",
   "pygments_lexer": "ipython3",
   "version": "3.9.16"
  },
  "orig_nbformat": 4,
  "vscode": {
   "interpreter": {
    "hash": "74082e485d12a9af28957b33c59da7117ff087ab1bb14b9034b7fa798ecfdd43"
   }
  }
 },
 "nbformat": 4,
 "nbformat_minor": 2
}
